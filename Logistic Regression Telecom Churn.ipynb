{
 "cells": [
  {
   "cell_type": "markdown",
   "metadata": {
    "colab_type": "text",
    "id": "8xDICk_zfdnT"
   },
   "source": [
    "\n",
    "\n",
    "# Logistic Regression - Project Telecom Churn Prediction"
   ]
  },
  {
   "cell_type": "markdown",
   "metadata": {
    "colab_type": "text",
    "id": "yCBxj-TXfdnV"
   },
   "source": [
    "\n",
    "##  Bank Marketing\n",
    "\n",
    "\n",
    "**Abstract:** \n",
    "- The data is related with Major Telecom company's customer churn.\n",
    "- The classification goal is to predict if the client will churn __ customer churned or not (Yes or No) is (variable y)__.\n",
    "\n",
    "\n",
    "\n",
    "**Data Set Information:**\n",
    "\n",
    "\n",
    "\n",
    "| Tables        | Column Name                     | Description                                                   |\n",
    "| ------------- |:-------------------------------:| -------------------------------------------------------------:|\n",
    "| col0          |  CustomerID                     |Passenger Identity                                             |\n",
    "| col1          |  Gender\t                      |Whether the customer is a male or a female                     |\n",
    "| col2          |  SeniorCitizen                  |Whether the customer is a senior citizen or not (1, 0)         |\n",
    "| col3          |  Partner\t                      |Whether the customer has a partner or not (Yes, No)            |\n",
    "| Col4          |  Dependents                     |Whether the customer has dependents or not (Yes, No)           |\n",
    "| Col5          |  Tenure                         |Number of months the customer has stayed with the company      |\n",
    "| Col6          |  PhoneService                   |Whether the customer has a phone service or not (Yes, No)      |\n",
    "| Col7          |  MultipleLines\t              |Whether the customer has multiple lines or not                 |\n",
    "|               |                                 |   (Yes, No, No phone service)                                 |\n",
    "|Col8           |  InternetService\t              |Customer’s internet service provider (DSL, Fiber optic, No)    |\n",
    "|Col9           |  OnlineSecurity\t              |Whether the customer has online security or not (Y,N,Ninternet)|\n",
    "|Col10          |   OnlineBackup\t              |Whether the customer has online backup or not (Y,N,Ninternet)  |\n",
    "|Col11          | DeviceProtection\t              |Whether the customer has device protection ornot(Y,N,Ninternet)|\n",
    "|Col12          |TechSupport\t                  |Whether the customer has tech support or not (Y,N,Ninternet)   |\n",
    "|Col13          |StreamingTV\t                  |Whether the customer has streaming TV or not(Y,N,Ninternet)    |\n",
    "|Col14          |StreamingMovies\t              |Whether the customer has streaming movies or not(Y,N,Ninternet)|\n",
    "|Col15          | Contract\t                      |The contract term of the customer (Month-to-month,1year,2year) |\n",
    "|Col16          |PaperlessBilling\t              |Whether the customer has paperless billing or not (Yes, No)    |\n",
    "|Col17          |PaymentMethod\t                  |The customer’s payment method (Electronic check, Mailed check  |\n",
    "|               |                                 |    Bank transfer (automatic),  Credit card (automatic))       |\n",
    "|Col18          |MonthlyCharges\t                  |The amount charged to the customer monthly                     |\n",
    "|Col19          |TotalCharges\t                  |The total amount charged to the customer                       |\n",
    "|Col20          |Churn\t                          |Whether the customer churned or not (Yes or No)                |\n",
    "\n"
   ]
  },
  {
   "cell_type": "markdown",
   "metadata": {
    "colab_type": "text",
    "id": "foaXHzDSfdnW"
   },
   "source": [
    "### Import the dataset\n",
    "\n",
    "- Use pandas library to read the csv format."
   ]
  },
  {
   "cell_type": "code",
   "execution_count": 1,
   "metadata": {
    "colab": {},
    "colab_type": "code",
    "id": "r9QSGSqTfdnX"
   },
   "outputs": [
    {
     "data": {
      "text/html": [
       "<div>\n",
       "<style scoped>\n",
       "    .dataframe tbody tr th:only-of-type {\n",
       "        vertical-align: middle;\n",
       "    }\n",
       "\n",
       "    .dataframe tbody tr th {\n",
       "        vertical-align: top;\n",
       "    }\n",
       "\n",
       "    .dataframe thead th {\n",
       "        text-align: right;\n",
       "    }\n",
       "</style>\n",
       "<table border=\"1\" class=\"dataframe\">\n",
       "  <thead>\n",
       "    <tr style=\"text-align: right;\">\n",
       "      <th></th>\n",
       "      <th>customerID</th>\n",
       "      <th>gender</th>\n",
       "      <th>SeniorCitizen</th>\n",
       "      <th>Partner</th>\n",
       "      <th>Dependents</th>\n",
       "      <th>tenure</th>\n",
       "      <th>PhoneService</th>\n",
       "      <th>MultipleLines</th>\n",
       "      <th>InternetService</th>\n",
       "      <th>OnlineSecurity</th>\n",
       "      <th>...</th>\n",
       "      <th>DeviceProtection</th>\n",
       "      <th>TechSupport</th>\n",
       "      <th>StreamingTV</th>\n",
       "      <th>StreamingMovies</th>\n",
       "      <th>Contract</th>\n",
       "      <th>PaperlessBilling</th>\n",
       "      <th>PaymentMethod</th>\n",
       "      <th>MonthlyCharges</th>\n",
       "      <th>TotalCharges</th>\n",
       "      <th>Churn</th>\n",
       "    </tr>\n",
       "  </thead>\n",
       "  <tbody>\n",
       "    <tr>\n",
       "      <th>0</th>\n",
       "      <td>5442-PPTJY</td>\n",
       "      <td>Male</td>\n",
       "      <td>0</td>\n",
       "      <td>Yes</td>\n",
       "      <td>Yes</td>\n",
       "      <td>12</td>\n",
       "      <td>Yes</td>\n",
       "      <td>No</td>\n",
       "      <td>No</td>\n",
       "      <td>No internet service</td>\n",
       "      <td>...</td>\n",
       "      <td>No internet service</td>\n",
       "      <td>No internet service</td>\n",
       "      <td>No internet service</td>\n",
       "      <td>No internet service</td>\n",
       "      <td>Two year</td>\n",
       "      <td>No</td>\n",
       "      <td>Mailed check</td>\n",
       "      <td>19.70</td>\n",
       "      <td>258.35</td>\n",
       "      <td>No</td>\n",
       "    </tr>\n",
       "    <tr>\n",
       "      <th>1</th>\n",
       "      <td>6261-RCVNS</td>\n",
       "      <td>Female</td>\n",
       "      <td>0</td>\n",
       "      <td>No</td>\n",
       "      <td>No</td>\n",
       "      <td>42</td>\n",
       "      <td>Yes</td>\n",
       "      <td>No</td>\n",
       "      <td>DSL</td>\n",
       "      <td>Yes</td>\n",
       "      <td>...</td>\n",
       "      <td>Yes</td>\n",
       "      <td>Yes</td>\n",
       "      <td>No</td>\n",
       "      <td>Yes</td>\n",
       "      <td>One year</td>\n",
       "      <td>No</td>\n",
       "      <td>Credit card (automatic)</td>\n",
       "      <td>73.90</td>\n",
       "      <td>3160.55</td>\n",
       "      <td>Yes</td>\n",
       "    </tr>\n",
       "    <tr>\n",
       "      <th>2</th>\n",
       "      <td>2176-OSJUV</td>\n",
       "      <td>Male</td>\n",
       "      <td>0</td>\n",
       "      <td>Yes</td>\n",
       "      <td>No</td>\n",
       "      <td>71</td>\n",
       "      <td>Yes</td>\n",
       "      <td>Yes</td>\n",
       "      <td>DSL</td>\n",
       "      <td>Yes</td>\n",
       "      <td>...</td>\n",
       "      <td>No</td>\n",
       "      <td>Yes</td>\n",
       "      <td>No</td>\n",
       "      <td>No</td>\n",
       "      <td>Two year</td>\n",
       "      <td>No</td>\n",
       "      <td>Bank transfer (automatic)</td>\n",
       "      <td>65.15</td>\n",
       "      <td>4681.75</td>\n",
       "      <td>No</td>\n",
       "    </tr>\n",
       "    <tr>\n",
       "      <th>3</th>\n",
       "      <td>6161-ERDGD</td>\n",
       "      <td>Male</td>\n",
       "      <td>0</td>\n",
       "      <td>Yes</td>\n",
       "      <td>Yes</td>\n",
       "      <td>71</td>\n",
       "      <td>Yes</td>\n",
       "      <td>Yes</td>\n",
       "      <td>DSL</td>\n",
       "      <td>Yes</td>\n",
       "      <td>...</td>\n",
       "      <td>Yes</td>\n",
       "      <td>Yes</td>\n",
       "      <td>Yes</td>\n",
       "      <td>Yes</td>\n",
       "      <td>One year</td>\n",
       "      <td>No</td>\n",
       "      <td>Electronic check</td>\n",
       "      <td>85.45</td>\n",
       "      <td>6300.85</td>\n",
       "      <td>No</td>\n",
       "    </tr>\n",
       "    <tr>\n",
       "      <th>4</th>\n",
       "      <td>2364-UFROM</td>\n",
       "      <td>Male</td>\n",
       "      <td>0</td>\n",
       "      <td>No</td>\n",
       "      <td>No</td>\n",
       "      <td>30</td>\n",
       "      <td>Yes</td>\n",
       "      <td>No</td>\n",
       "      <td>DSL</td>\n",
       "      <td>Yes</td>\n",
       "      <td>...</td>\n",
       "      <td>No</td>\n",
       "      <td>Yes</td>\n",
       "      <td>Yes</td>\n",
       "      <td>No</td>\n",
       "      <td>One year</td>\n",
       "      <td>No</td>\n",
       "      <td>Electronic check</td>\n",
       "      <td>70.40</td>\n",
       "      <td>2044.75</td>\n",
       "      <td>No</td>\n",
       "    </tr>\n",
       "  </tbody>\n",
       "</table>\n",
       "<p>5 rows × 21 columns</p>\n",
       "</div>"
      ],
      "text/plain": [
       "   customerID  gender  SeniorCitizen Partner Dependents  tenure PhoneService  \\\n",
       "0  5442-PPTJY    Male              0     Yes        Yes      12          Yes   \n",
       "1  6261-RCVNS  Female              0      No         No      42          Yes   \n",
       "2  2176-OSJUV    Male              0     Yes         No      71          Yes   \n",
       "3  6161-ERDGD    Male              0     Yes        Yes      71          Yes   \n",
       "4  2364-UFROM    Male              0      No         No      30          Yes   \n",
       "\n",
       "  MultipleLines InternetService       OnlineSecurity  ...  \\\n",
       "0            No              No  No internet service  ...   \n",
       "1            No             DSL                  Yes  ...   \n",
       "2           Yes             DSL                  Yes  ...   \n",
       "3           Yes             DSL                  Yes  ...   \n",
       "4            No             DSL                  Yes  ...   \n",
       "\n",
       "      DeviceProtection          TechSupport          StreamingTV  \\\n",
       "0  No internet service  No internet service  No internet service   \n",
       "1                  Yes                  Yes                   No   \n",
       "2                   No                  Yes                   No   \n",
       "3                  Yes                  Yes                  Yes   \n",
       "4                   No                  Yes                  Yes   \n",
       "\n",
       "       StreamingMovies  Contract PaperlessBilling              PaymentMethod  \\\n",
       "0  No internet service  Two year               No               Mailed check   \n",
       "1                  Yes  One year               No    Credit card (automatic)   \n",
       "2                   No  Two year               No  Bank transfer (automatic)   \n",
       "3                  Yes  One year               No           Electronic check   \n",
       "4                   No  One year               No           Electronic check   \n",
       "\n",
       "  MonthlyCharges  TotalCharges Churn  \n",
       "0          19.70        258.35    No  \n",
       "1          73.90       3160.55   Yes  \n",
       "2          65.15       4681.75    No  \n",
       "3          85.45       6300.85    No  \n",
       "4          70.40       2044.75    No  \n",
       "\n",
       "[5 rows x 21 columns]"
      ]
     },
     "execution_count": 1,
     "metadata": {},
     "output_type": "execute_result"
    }
   ],
   "source": [
    "import pandas as pd\n",
    "import numpy as np\n",
    "Churn_train = pd.read_csv('Churn_train.csv')\n",
    "Churn_test  = pd.read_csv('Churn_test.csv')\n",
    "Churn_train.head() "
   ]
  },
  {
   "cell_type": "markdown",
   "metadata": {
    "colab_type": "text",
    "id": "YIHY1M7ifdnf"
   },
   "source": [
    "### Check the columns present in the dataset"
   ]
  },
  {
   "cell_type": "code",
   "execution_count": 2,
   "metadata": {
    "colab": {},
    "colab_type": "code",
    "id": "EHGzqdRafdng"
   },
   "outputs": [
    {
     "data": {
      "text/plain": [
       "Index(['customerID', 'gender', 'SeniorCitizen', 'Partner', 'Dependents',\n",
       "       'tenure', 'PhoneService', 'MultipleLines', 'InternetService',\n",
       "       'OnlineSecurity', 'OnlineBackup', 'DeviceProtection', 'TechSupport',\n",
       "       'StreamingTV', 'StreamingMovies', 'Contract', 'PaperlessBilling',\n",
       "       'PaymentMethod', 'MonthlyCharges', 'TotalCharges', 'Churn'],\n",
       "      dtype='object')"
      ]
     },
     "execution_count": 2,
     "metadata": {},
     "output_type": "execute_result"
    }
   ],
   "source": [
    "Churn_train.columns"
   ]
  },
  {
   "cell_type": "markdown",
   "metadata": {
    "colab_type": "text",
    "id": "7WO85TUefdnl"
   },
   "source": [
    "### Check the shape of Dataset"
   ]
  },
  {
   "cell_type": "code",
   "execution_count": 3,
   "metadata": {
    "colab": {},
    "colab_type": "code",
    "id": "hhvBZ7Kefdnm"
   },
   "outputs": [
    {
     "name": "stdout",
     "output_type": "stream",
     "text": [
      "(5634, 21)\n",
      "(1409, 20)\n"
     ]
    }
   ],
   "source": [
    "print(Churn_train.shape)\n",
    "print(Churn_test.shape)"
   ]
  },
  {
   "cell_type": "code",
   "execution_count": 4,
   "metadata": {},
   "outputs": [
    {
     "name": "stdout",
     "output_type": "stream",
     "text": [
      "<class 'pandas.core.frame.DataFrame'>\n",
      "RangeIndex: 5634 entries, 0 to 5633\n",
      "Data columns (total 21 columns):\n",
      " #   Column            Non-Null Count  Dtype  \n",
      "---  ------            --------------  -----  \n",
      " 0   customerID        5634 non-null   object \n",
      " 1   gender            5634 non-null   object \n",
      " 2   SeniorCitizen     5634 non-null   int64  \n",
      " 3   Partner           5634 non-null   object \n",
      " 4   Dependents        5634 non-null   object \n",
      " 5   tenure            5634 non-null   int64  \n",
      " 6   PhoneService      5634 non-null   object \n",
      " 7   MultipleLines     5634 non-null   object \n",
      " 8   InternetService   5634 non-null   object \n",
      " 9   OnlineSecurity    5634 non-null   object \n",
      " 10  OnlineBackup      5634 non-null   object \n",
      " 11  DeviceProtection  5634 non-null   object \n",
      " 12  TechSupport       5634 non-null   object \n",
      " 13  StreamingTV       5634 non-null   object \n",
      " 14  StreamingMovies   5634 non-null   object \n",
      " 15  Contract          5634 non-null   object \n",
      " 16  PaperlessBilling  5634 non-null   object \n",
      " 17  PaymentMethod     5634 non-null   object \n",
      " 18  MonthlyCharges    5634 non-null   float64\n",
      " 19  TotalCharges      5634 non-null   object \n",
      " 20  Churn             5634 non-null   object \n",
      "dtypes: float64(1), int64(2), object(18)\n",
      "memory usage: 924.5+ KB\n",
      "None\n"
     ]
    }
   ],
   "source": [
    "print(Churn_train.info())"
   ]
  },
  {
   "cell_type": "code",
   "execution_count": 5,
   "metadata": {},
   "outputs": [
    {
     "data": {
      "text/plain": [
       "<AxesSubplot:>"
      ]
     },
     "execution_count": 5,
     "metadata": {},
     "output_type": "execute_result"
    },
    {
     "data": {
      "image/png": "[encoded data removed]",
      "text/plain": [
       "<Figure size 432x288 with 1 Axes>"
      ]
     },
     "metadata": {
      "needs_background": "light"
     },
     "output_type": "display_data"
    }
   ],
   "source": [
    "Churn_train['TotalCharges'].value_counts().hist()"
   ]
  },
  {
   "cell_type": "code",
   "execution_count": 6,
   "metadata": {},
   "outputs": [],
   "source": [
    "#Churn_train['TotalCharges']= Churn_train.TotalCharges.convert_objects(convert_numeric=True)\n",
    "Churn_train['TotalCharges'] = pd.to_numeric(Churn_train['TotalCharges'],errors = 'coerce')\n",
    "Churn_test['TotalCharges'] = pd.to_numeric(Churn_test['TotalCharges'],errors = 'coerce')"
   ]
  },
  {
   "cell_type": "code",
   "execution_count": 7,
   "metadata": {},
   "outputs": [],
   "source": [
    "Churn_train['TotalCharges']  = Churn_train['TotalCharges'].astype ('float64')\n",
    "Churn_test['TotalCharges']  = Churn_test['TotalCharges'].astype ('float64')\n",
    "#Churn_test['TotalCharges']  = Churn_test['TotalCharges'].astype ('float64')"
   ]
  },
  {
   "cell_type": "code",
   "execution_count": 8,
   "metadata": {},
   "outputs": [
    {
     "data": {
      "text/plain": [
       "customerID           object\n",
       "gender               object\n",
       "SeniorCitizen         int64\n",
       "Partner              object\n",
       "Dependents           object\n",
       "tenure                int64\n",
       "PhoneService         object\n",
       "MultipleLines        object\n",
       "InternetService      object\n",
       "OnlineSecurity       object\n",
       "OnlineBackup         object\n",
       "DeviceProtection     object\n",
       "TechSupport          object\n",
       "StreamingTV          object\n",
       "StreamingMovies      object\n",
       "Contract             object\n",
       "PaperlessBilling     object\n",
       "PaymentMethod        object\n",
       "MonthlyCharges      float64\n",
       "TotalCharges        float64\n",
       "Churn                object\n",
       "dtype: object"
      ]
     },
     "execution_count": 8,
     "metadata": {},
     "output_type": "execute_result"
    }
   ],
   "source": [
    "Churn_train.dtypes"
   ]
  },
  {
   "cell_type": "markdown",
   "metadata": {
    "colab_type": "text",
    "id": "fCLEQfx5fdns"
   },
   "source": [
    "### Check the descriptive statistics of the dataset"
   ]
  },
  {
   "cell_type": "code",
   "execution_count": 9,
   "metadata": {
    "colab": {},
    "colab_type": "code",
    "id": "fBej9Zh4fdnt"
   },
   "outputs": [
    {
     "data": {
      "text/html": [
       "<div>\n",
       "<style scoped>\n",
       "    .dataframe tbody tr th:only-of-type {\n",
       "        vertical-align: middle;\n",
       "    }\n",
       "\n",
       "    .dataframe tbody tr th {\n",
       "        vertical-align: top;\n",
       "    }\n",
       "\n",
       "    .dataframe thead th {\n",
       "        text-align: right;\n",
       "    }\n",
       "</style>\n",
       "<table border=\"1\" class=\"dataframe\">\n",
       "  <thead>\n",
       "    <tr style=\"text-align: right;\">\n",
       "      <th></th>\n",
       "      <th>SeniorCitizen</th>\n",
       "      <th>tenure</th>\n",
       "      <th>MonthlyCharges</th>\n",
       "      <th>TotalCharges</th>\n",
       "    </tr>\n",
       "  </thead>\n",
       "  <tbody>\n",
       "    <tr>\n",
       "      <th>count</th>\n",
       "      <td>5634.000000</td>\n",
       "      <td>5634.000000</td>\n",
       "      <td>5634.000000</td>\n",
       "      <td>5626.000000</td>\n",
       "    </tr>\n",
       "    <tr>\n",
       "      <th>mean</th>\n",
       "      <td>0.161874</td>\n",
       "      <td>32.277955</td>\n",
       "      <td>64.779127</td>\n",
       "      <td>2280.662380</td>\n",
       "    </tr>\n",
       "    <tr>\n",
       "      <th>std</th>\n",
       "      <td>0.368368</td>\n",
       "      <td>24.555211</td>\n",
       "      <td>30.104993</td>\n",
       "      <td>2266.394623</td>\n",
       "    </tr>\n",
       "    <tr>\n",
       "      <th>min</th>\n",
       "      <td>0.000000</td>\n",
       "      <td>0.000000</td>\n",
       "      <td>18.250000</td>\n",
       "      <td>18.800000</td>\n",
       "    </tr>\n",
       "    <tr>\n",
       "      <th>25%</th>\n",
       "      <td>0.000000</td>\n",
       "      <td>9.000000</td>\n",
       "      <td>35.400000</td>\n",
       "      <td>391.900000</td>\n",
       "    </tr>\n",
       "    <tr>\n",
       "      <th>50%</th>\n",
       "      <td>0.000000</td>\n",
       "      <td>29.000000</td>\n",
       "      <td>70.375000</td>\n",
       "      <td>1394.800000</td>\n",
       "    </tr>\n",
       "    <tr>\n",
       "      <th>75%</th>\n",
       "      <td>0.000000</td>\n",
       "      <td>55.000000</td>\n",
       "      <td>89.850000</td>\n",
       "      <td>3794.487500</td>\n",
       "    </tr>\n",
       "    <tr>\n",
       "      <th>max</th>\n",
       "      <td>1.000000</td>\n",
       "      <td>72.000000</td>\n",
       "      <td>118.650000</td>\n",
       "      <td>8684.800000</td>\n",
       "    </tr>\n",
       "  </tbody>\n",
       "</table>\n",
       "</div>"
      ],
      "text/plain": [
       "       SeniorCitizen       tenure  MonthlyCharges  TotalCharges\n",
       "count    5634.000000  5634.000000     5634.000000   5626.000000\n",
       "mean        0.161874    32.277955       64.779127   2280.662380\n",
       "std         0.368368    24.555211       30.104993   2266.394623\n",
       "min         0.000000     0.000000       18.250000     18.800000\n",
       "25%         0.000000     9.000000       35.400000    391.900000\n",
       "50%         0.000000    29.000000       70.375000   1394.800000\n",
       "75%         0.000000    55.000000       89.850000   3794.487500\n",
       "max         1.000000    72.000000      118.650000   8684.800000"
      ]
     },
     "execution_count": 9,
     "metadata": {},
     "output_type": "execute_result"
    }
   ],
   "source": [
    "Churn_train.describe() "
   ]
  },
  {
   "cell_type": "code",
   "execution_count": 10,
   "metadata": {},
   "outputs": [
    {
     "data": {
      "text/html": [
       "<div>\n",
       "<style scoped>\n",
       "    .dataframe tbody tr th:only-of-type {\n",
       "        vertical-align: middle;\n",
       "    }\n",
       "\n",
       "    .dataframe tbody tr th {\n",
       "        vertical-align: top;\n",
       "    }\n",
       "\n",
       "    .dataframe thead th {\n",
       "        text-align: right;\n",
       "    }\n",
       "</style>\n",
       "<table border=\"1\" class=\"dataframe\">\n",
       "  <thead>\n",
       "    <tr style=\"text-align: right;\">\n",
       "      <th></th>\n",
       "      <th>SeniorCitizen</th>\n",
       "      <th>tenure</th>\n",
       "      <th>MonthlyCharges</th>\n",
       "      <th>TotalCharges</th>\n",
       "    </tr>\n",
       "  </thead>\n",
       "  <tbody>\n",
       "    <tr>\n",
       "      <th>count</th>\n",
       "      <td>1409.000000</td>\n",
       "      <td>1409.000000</td>\n",
       "      <td>1409.000000</td>\n",
       "      <td>1406.000000</td>\n",
       "    </tr>\n",
       "    <tr>\n",
       "      <th>mean</th>\n",
       "      <td>0.163236</td>\n",
       "      <td>32.743790</td>\n",
       "      <td>64.691980</td>\n",
       "      <td>2293.856437</td>\n",
       "    </tr>\n",
       "    <tr>\n",
       "      <th>std</th>\n",
       "      <td>0.369712</td>\n",
       "      <td>24.581736</td>\n",
       "      <td>30.040784</td>\n",
       "      <td>2269.054321</td>\n",
       "    </tr>\n",
       "    <tr>\n",
       "      <th>min</th>\n",
       "      <td>0.000000</td>\n",
       "      <td>0.000000</td>\n",
       "      <td>18.700000</td>\n",
       "      <td>19.200000</td>\n",
       "    </tr>\n",
       "    <tr>\n",
       "      <th>25%</th>\n",
       "      <td>0.000000</td>\n",
       "      <td>9.000000</td>\n",
       "      <td>36.850000</td>\n",
       "      <td>423.687500</td>\n",
       "    </tr>\n",
       "    <tr>\n",
       "      <th>50%</th>\n",
       "      <td>0.000000</td>\n",
       "      <td>29.000000</td>\n",
       "      <td>70.150000</td>\n",
       "      <td>1413.550000</td>\n",
       "    </tr>\n",
       "    <tr>\n",
       "      <th>75%</th>\n",
       "      <td>0.000000</td>\n",
       "      <td>56.000000</td>\n",
       "      <td>89.850000</td>\n",
       "      <td>3791.875000</td>\n",
       "    </tr>\n",
       "    <tr>\n",
       "      <th>max</th>\n",
       "      <td>1.000000</td>\n",
       "      <td>72.000000</td>\n",
       "      <td>118.750000</td>\n",
       "      <td>8672.450000</td>\n",
       "    </tr>\n",
       "  </tbody>\n",
       "</table>\n",
       "</div>"
      ],
      "text/plain": [
       "       SeniorCitizen       tenure  MonthlyCharges  TotalCharges\n",
       "count    1409.000000  1409.000000     1409.000000   1406.000000\n",
       "mean        0.163236    32.743790       64.691980   2293.856437\n",
       "std         0.369712    24.581736       30.040784   2269.054321\n",
       "min         0.000000     0.000000       18.700000     19.200000\n",
       "25%         0.000000     9.000000       36.850000    423.687500\n",
       "50%         0.000000    29.000000       70.150000   1413.550000\n",
       "75%         0.000000    56.000000       89.850000   3791.875000\n",
       "max         1.000000    72.000000      118.750000   8672.450000"
      ]
     },
     "execution_count": 10,
     "metadata": {},
     "output_type": "execute_result"
    }
   ],
   "source": [
    "Churn_test.describe()"
   ]
  },
  {
   "cell_type": "markdown",
   "metadata": {
    "colab_type": "text",
    "id": "EOjhSv7ofdny"
   },
   "source": [
    "### Check the info of the dataset"
   ]
  },
  {
   "cell_type": "code",
   "execution_count": 11,
   "metadata": {
    "colab": {},
    "colab_type": "code",
    "id": "YH37VmD1fdnz"
   },
   "outputs": [
    {
     "name": "stdout",
     "output_type": "stream",
     "text": [
      "<class 'pandas.core.frame.DataFrame'>\n",
      "RangeIndex: 1409 entries, 0 to 1408\n",
      "Data columns (total 20 columns):\n",
      " #   Column            Non-Null Count  Dtype  \n",
      "---  ------            --------------  -----  \n",
      " 0   customerID        1409 non-null   object \n",
      " 1   gender            1409 non-null   object \n",
      " 2   SeniorCitizen     1409 non-null   int64  \n",
      " 3   Partner           1409 non-null   object \n",
      " 4   Dependents        1409 non-null   object \n",
      " 5   tenure            1409 non-null   int64  \n",
      " 6   PhoneService      1409 non-null   object \n",
      " 7   MultipleLines     1409 non-null   object \n",
      " 8   InternetService   1409 non-null   object \n",
      " 9   OnlineSecurity    1409 non-null   object \n",
      " 10  OnlineBackup      1409 non-null   object \n",
      " 11  DeviceProtection  1409 non-null   object \n",
      " 12  TechSupport       1409 non-null   object \n",
      " 13  StreamingTV       1409 non-null   object \n",
      " 14  StreamingMovies   1409 non-null   object \n",
      " 15  Contract          1409 non-null   object \n",
      " 16  PaperlessBilling  1409 non-null   object \n",
      " 17  PaymentMethod     1409 non-null   object \n",
      " 18  MonthlyCharges    1409 non-null   float64\n",
      " 19  TotalCharges      1406 non-null   float64\n",
      "dtypes: float64(2), int64(2), object(16)\n",
      "memory usage: 220.3+ KB\n",
      "None\n"
     ]
    }
   ],
   "source": [
    "print(Churn_test.info())\n"
   ]
  },
  {
   "cell_type": "markdown",
   "metadata": {
    "colab_type": "text",
    "id": "3UseM3d3fdn5"
   },
   "source": [
    "### Q 1. Write a code to understand the below mentioned variables and print their 'unique' attributes.\n",
    "``` [ 'gender', 'SeniorCitizen', 'Partner', 'Dependents',\n",
    "       'tenure', 'PhoneService', 'MultipleLines', 'InternetService',\n",
    "       'OnlineSecurity', 'OnlineBackup', 'DeviceProtection', 'TechSupport',\n",
    "       'StreamingTV', 'StreamingMovies', 'Contract', 'PaperlessBilling',\n",
    "       'PaymentMethod', 'MonthlyCharges', 'TotalCharges',] ```\n",
    "\n",
    "\n",
    "- Use the `.unique()` function.\n",
    "- Print the values separately."
   ]
  },
  {
   "cell_type": "code",
   "execution_count": 12,
   "metadata": {
    "colab": {},
    "colab_type": "code",
    "id": "D72JMoOPfdn6"
   },
   "outputs": [
    {
     "name": "stdout",
     "output_type": "stream",
     "text": [
      "Gender these unique values: Male      2838\n",
      "Female    2796\n",
      "Name: gender, dtype: int64\n",
      "SeniorCitizen have these unique values: 0    4722\n",
      "1     912\n",
      "Name: SeniorCitizen, dtype: int64\n",
      " Partner have these unique values: No     2932\n",
      "Yes    2702\n",
      "Name: Partner, dtype: int64\n",
      " Dependents have these unique values: No     3968\n",
      "Yes    1666\n",
      "Name: Dependents, dtype: int64\n",
      "PhoneService have these unique values: Yes    5087\n",
      "No      547\n",
      "Name: PhoneService, dtype: int64\n",
      " MultipleLines have these unique values: No                  2700\n",
      "Yes                 2387\n",
      "No phone service     547\n",
      "Name: MultipleLines, dtype: int64\n",
      " InternetService have these unique values: Fiber optic    2479\n",
      "DSL            1934\n",
      "No             1221\n",
      "Name: InternetService, dtype: int64\n",
      "OnlineSecurity have these unique values: No                     2801\n",
      "Yes                    1612\n",
      "No internet service    1221\n",
      "Name: OnlineSecurity, dtype: int64\n",
      "OnlineBackup have these unique values: No                     2498\n",
      "Yes                    1915\n",
      "No internet service    1221\n",
      "Name: OnlineBackup, dtype: int64\n",
      "DeviceProtection have these unique values: No                     2473\n",
      "Yes                    1940\n",
      "No internet service    1221\n",
      "Name: DeviceProtection, dtype: int64\n",
      "TechSupport have these unique values: No                     2781\n",
      "Yes                    1632\n",
      "No internet service    1221\n",
      "Name: TechSupport, dtype: int64\n",
      "StreamingTV have these unique values: No                     2246\n",
      "Yes                    2167\n",
      "No internet service    1221\n",
      "Name: StreamingTV, dtype: int64\n",
      "StreamingMovies have these unique values: No                     2213\n",
      "Yes                    2200\n",
      "No internet service    1221\n",
      "Name: StreamingMovies, dtype: int64\n",
      "Contract have these unique values: Month-to-month    3104\n",
      "Two year          1344\n",
      "One year          1186\n",
      "Name: Contract, dtype: int64\n",
      "PaymentMethod have these unique values: Electronic check             1893\n",
      "Mailed check                 1305\n",
      "Bank transfer (automatic)    1219\n",
      "Credit card (automatic)      1217\n",
      "Name: PaymentMethod, dtype: int64\n",
      "PaperlessBilling have these unique values: Yes    3321\n",
      "No     2313\n",
      "Name: PaperlessBilling, dtype: int64\n",
      "Churn these unique values: No     4113\n",
      "Yes    1521\n",
      "Name: Churn, dtype: int64\n"
     ]
    }
   ],
   "source": [
    "cols=['gender', 'SeniorCitizen', 'Partner', 'Dependents',\n",
    "        'PhoneService', 'MultipleLines', 'InternetService',\n",
    "       'OnlineSecurity', 'OnlineBackup', 'DeviceProtection', 'TechSupport',\n",
    "       'StreamingTV', 'StreamingMovies', 'Contract', 'PaperlessBilling',\n",
    "       'PaymentMethod']\n",
    "def log():\n",
    "    print('Gender these unique values:',Churn_train['gender'].value_counts())\n",
    "    print('SeniorCitizen have these unique values:',Churn_train['SeniorCitizen'].value_counts())\n",
    "    print(' Partner have these unique values:',Churn_train['Partner'].value_counts())\n",
    "    print(' Dependents have these unique values:',Churn_train['Dependents'].value_counts())\n",
    "   \n",
    "    print('PhoneService have these unique values:',Churn_train['PhoneService'].value_counts())\n",
    "    print(' MultipleLines have these unique values:',Churn_train['MultipleLines'].value_counts())\n",
    "    print(' InternetService have these unique values:',Churn_train['InternetService'].value_counts())\n",
    "    print('OnlineSecurity have these unique values:',Churn_train['OnlineSecurity'].value_counts())\n",
    "    print('OnlineBackup have these unique values:',Churn_train['OnlineBackup'].value_counts())\n",
    "    print('DeviceProtection have these unique values:',Churn_train['DeviceProtection'].value_counts())\n",
    "    print('TechSupport have these unique values:',Churn_train['TechSupport'].value_counts())\n",
    "    print('StreamingTV have these unique values:',Churn_train['StreamingTV'].value_counts())\n",
    "    print('StreamingMovies have these unique values:',Churn_train['StreamingMovies'].value_counts())\n",
    "    print('Contract have these unique values:',Churn_train['Contract'].value_counts())\n",
    "    print('PaymentMethod have these unique values:',Churn_train['PaymentMethod'].value_counts())\n",
    "    print('PaperlessBilling have these unique values:',Churn_train['PaperlessBilling'].value_counts())\n",
    "    print('Churn these unique values:',Churn_train['Churn'].value_counts())\n",
    "    \n",
    "    \n",
    "   # The code output should be user-friendly.\n",
    "    # For eg- Job have these unique values: ['.........']\n",
    "log()"
   ]
  },
  {
   "cell_type": "markdown",
   "metadata": {
    "colab_type": "text",
    "id": "5u6LNrYJfdoB"
   },
   "source": [
    "### Q 2. Write a code to check the min and max value of age. Also check if there is any null value or not.\n",
    "\n",
    "- Use the `'.max()', '.min()', 'isnull()' and 'any()'` function"
   ]
  },
  {
   "cell_type": "code",
   "execution_count": 13,
   "metadata": {
    "colab": {},
    "colab_type": "code",
    "id": "pphWFDq7fdoC"
   },
   "outputs": [
    {
     "name": "stdout",
     "output_type": "stream",
     "text": [
      "0\n",
      "72\n",
      "customerID          False\n",
      "gender              False\n",
      "SeniorCitizen       False\n",
      "Partner             False\n",
      "Dependents          False\n",
      "tenure              False\n",
      "PhoneService        False\n",
      "MultipleLines       False\n",
      "InternetService     False\n",
      "OnlineSecurity      False\n",
      "OnlineBackup        False\n",
      "DeviceProtection    False\n",
      "TechSupport         False\n",
      "StreamingTV         False\n",
      "StreamingMovies     False\n",
      "Contract            False\n",
      "PaperlessBilling    False\n",
      "PaymentMethod       False\n",
      "MonthlyCharges      False\n",
      "TotalCharges         True\n",
      "Churn               False\n",
      "dtype: bool\n"
     ]
    }
   ],
   "source": [
    "def log():\n",
    "    print(Churn_train['tenure'].min())\n",
    "    print(Churn_train['tenure'].max()) # print the max age\n",
    "    # print the min age\n",
    "    print(Churn_train.isnull().any() )                # print the missing values if any\n",
    "log()"
   ]
  },
  {
   "cell_type": "code",
   "execution_count": 14,
   "metadata": {},
   "outputs": [
    {
     "name": "stdout",
     "output_type": "stream",
     "text": [
      "<class 'pandas.core.frame.DataFrame'>\n",
      "RangeIndex: 5634 entries, 0 to 5633\n",
      "Data columns (total 21 columns):\n",
      " #   Column            Non-Null Count  Dtype  \n",
      "---  ------            --------------  -----  \n",
      " 0   customerID        5634 non-null   object \n",
      " 1   gender            5634 non-null   object \n",
      " 2   SeniorCitizen     5634 non-null   int64  \n",
      " 3   Partner           5634 non-null   object \n",
      " 4   Dependents        5634 non-null   object \n",
      " 5   tenure            5634 non-null   int64  \n",
      " 6   PhoneService      5634 non-null   object \n",
      " 7   MultipleLines     5634 non-null   object \n",
      " 8   InternetService   5634 non-null   object \n",
      " 9   OnlineSecurity    5634 non-null   object \n",
      " 10  OnlineBackup      5634 non-null   object \n",
      " 11  DeviceProtection  5634 non-null   object \n",
      " 12  TechSupport       5634 non-null   object \n",
      " 13  StreamingTV       5634 non-null   object \n",
      " 14  StreamingMovies   5634 non-null   object \n",
      " 15  Contract          5634 non-null   object \n",
      " 16  PaperlessBilling  5634 non-null   object \n",
      " 17  PaymentMethod     5634 non-null   object \n",
      " 18  MonthlyCharges    5634 non-null   float64\n",
      " 19  TotalCharges      5626 non-null   float64\n",
      " 20  Churn             5634 non-null   object \n",
      "dtypes: float64(2), int64(2), object(17)\n",
      "memory usage: 924.5+ KB\n",
      "None\n"
     ]
    }
   ],
   "source": [
    "print(Churn_train.info())"
   ]
  },
  {
   "cell_type": "code",
   "execution_count": 15,
   "metadata": {},
   "outputs": [
    {
     "name": "stdout",
     "output_type": "stream",
     "text": [
      "<class 'pandas.core.frame.DataFrame'>\n",
      "RangeIndex: 1409 entries, 0 to 1408\n",
      "Data columns (total 20 columns):\n",
      " #   Column            Non-Null Count  Dtype  \n",
      "---  ------            --------------  -----  \n",
      " 0   customerID        1409 non-null   object \n",
      " 1   gender            1409 non-null   object \n",
      " 2   SeniorCitizen     1409 non-null   int64  \n",
      " 3   Partner           1409 non-null   object \n",
      " 4   Dependents        1409 non-null   object \n",
      " 5   tenure            1409 non-null   int64  \n",
      " 6   PhoneService      1409 non-null   object \n",
      " 7   MultipleLines     1409 non-null   object \n",
      " 8   InternetService   1409 non-null   object \n",
      " 9   OnlineSecurity    1409 non-null   object \n",
      " 10  OnlineBackup      1409 non-null   object \n",
      " 11  DeviceProtection  1409 non-null   object \n",
      " 12  TechSupport       1409 non-null   object \n",
      " 13  StreamingTV       1409 non-null   object \n",
      " 14  StreamingMovies   1409 non-null   object \n",
      " 15  Contract          1409 non-null   object \n",
      " 16  PaperlessBilling  1409 non-null   object \n",
      " 17  PaymentMethod     1409 non-null   object \n",
      " 18  MonthlyCharges    1409 non-null   float64\n",
      " 19  TotalCharges      1406 non-null   float64\n",
      "dtypes: float64(2), int64(2), object(16)\n",
      "memory usage: 220.3+ KB\n"
     ]
    }
   ],
   "source": [
    "Churn_test.info()"
   ]
  },
  {
   "cell_type": "code",
   "execution_count": 16,
   "metadata": {},
   "outputs": [
    {
     "data": {
      "text/plain": [
       "<AxesSubplot:>"
      ]
     },
     "execution_count": 16,
     "metadata": {},
     "output_type": "execute_result"
    },
    {
     "data": {
      "image/png": "[encoded data removed]",
      "text/plain": [
       "<Figure size 432x288 with 1 Axes>"
      ]
     },
     "metadata": {
      "needs_background": "light"
     },
     "output_type": "display_data"
    }
   ],
   "source": [
    "Churn_train['TotalCharges'].hist()"
   ]
  },
  {
   "cell_type": "code",
   "execution_count": 17,
   "metadata": {},
   "outputs": [],
   "source": [
    "Churn_train['TotalCharges'].fillna(Churn_train['TotalCharges'].median(), inplace=True) "
   ]
  },
  {
   "cell_type": "code",
   "execution_count": 18,
   "metadata": {},
   "outputs": [
    {
     "name": "stdout",
     "output_type": "stream",
     "text": [
      "<class 'pandas.core.frame.DataFrame'>\n",
      "RangeIndex: 5634 entries, 0 to 5633\n",
      "Data columns (total 21 columns):\n",
      " #   Column            Non-Null Count  Dtype  \n",
      "---  ------            --------------  -----  \n",
      " 0   customerID        5634 non-null   object \n",
      " 1   gender            5634 non-null   object \n",
      " 2   SeniorCitizen     5634 non-null   int64  \n",
      " 3   Partner           5634 non-null   object \n",
      " 4   Dependents        5634 non-null   object \n",
      " 5   tenure            5634 non-null   int64  \n",
      " 6   PhoneService      5634 non-null   object \n",
      " 7   MultipleLines     5634 non-null   object \n",
      " 8   InternetService   5634 non-null   object \n",
      " 9   OnlineSecurity    5634 non-null   object \n",
      " 10  OnlineBackup      5634 non-null   object \n",
      " 11  DeviceProtection  5634 non-null   object \n",
      " 12  TechSupport       5634 non-null   object \n",
      " 13  StreamingTV       5634 non-null   object \n",
      " 14  StreamingMovies   5634 non-null   object \n",
      " 15  Contract          5634 non-null   object \n",
      " 16  PaperlessBilling  5634 non-null   object \n",
      " 17  PaymentMethod     5634 non-null   object \n",
      " 18  MonthlyCharges    5634 non-null   float64\n",
      " 19  TotalCharges      5634 non-null   float64\n",
      " 20  Churn             5634 non-null   object \n",
      "dtypes: float64(2), int64(2), object(17)\n",
      "memory usage: 924.5+ KB\n"
     ]
    }
   ],
   "source": [
    "Churn_train.info()"
   ]
  },
  {
   "cell_type": "code",
   "execution_count": 19,
   "metadata": {},
   "outputs": [
    {
     "data": {
      "text/plain": [
       "<AxesSubplot:>"
      ]
     },
     "execution_count": 19,
     "metadata": {},
     "output_type": "execute_result"
    },
    {
     "data": {
      "image/png": "[encoded data removed]",
      "text/plain": [
       "<Figure size 432x288 with 1 Axes>"
      ]
     },
     "metadata": {
      "needs_background": "light"
     },
     "output_type": "display_data"
    }
   ],
   "source": [
    "Churn_train['TotalCharges'].hist()"
   ]
  },
  {
   "cell_type": "code",
   "execution_count": 20,
   "metadata": {},
   "outputs": [],
   "source": [
    "Churn_test['TotalCharges'].fillna(Churn_test['TotalCharges'].median(), inplace=True) "
   ]
  },
  {
   "cell_type": "code",
   "execution_count": 21,
   "metadata": {},
   "outputs": [
    {
     "name": "stdout",
     "output_type": "stream",
     "text": [
      "<class 'pandas.core.frame.DataFrame'>\n",
      "RangeIndex: 1409 entries, 0 to 1408\n",
      "Data columns (total 20 columns):\n",
      " #   Column            Non-Null Count  Dtype  \n",
      "---  ------            --------------  -----  \n",
      " 0   customerID        1409 non-null   object \n",
      " 1   gender            1409 non-null   object \n",
      " 2   SeniorCitizen     1409 non-null   int64  \n",
      " 3   Partner           1409 non-null   object \n",
      " 4   Dependents        1409 non-null   object \n",
      " 5   tenure            1409 non-null   int64  \n",
      " 6   PhoneService      1409 non-null   object \n",
      " 7   MultipleLines     1409 non-null   object \n",
      " 8   InternetService   1409 non-null   object \n",
      " 9   OnlineSecurity    1409 non-null   object \n",
      " 10  OnlineBackup      1409 non-null   object \n",
      " 11  DeviceProtection  1409 non-null   object \n",
      " 12  TechSupport       1409 non-null   object \n",
      " 13  StreamingTV       1409 non-null   object \n",
      " 14  StreamingMovies   1409 non-null   object \n",
      " 15  Contract          1409 non-null   object \n",
      " 16  PaperlessBilling  1409 non-null   object \n",
      " 17  PaymentMethod     1409 non-null   object \n",
      " 18  MonthlyCharges    1409 non-null   float64\n",
      " 19  TotalCharges      1409 non-null   float64\n",
      "dtypes: float64(2), int64(2), object(16)\n",
      "memory usage: 220.3+ KB\n"
     ]
    }
   ],
   "source": [
    "Churn_test.info()"
   ]
  },
  {
   "cell_type": "code",
   "execution_count": 22,
   "metadata": {},
   "outputs": [
    {
     "data": {
      "text/plain": [
       "<AxesSubplot:>"
      ]
     },
     "execution_count": 22,
     "metadata": {},
     "output_type": "execute_result"
    },
    {
     "data": {
      "image/png": "[encoded data removed]",
      "text/plain": [
       "<Figure size 432x288 with 1 Axes>"
      ]
     },
     "metadata": {
      "needs_background": "light"
     },
     "output_type": "display_data"
    }
   ],
   "source": [
    "Churn_test['TotalCharges'].hist()"
   ]
  },
  {
   "cell_type": "code",
   "execution_count": 26,
   "metadata": {},
   "outputs": [
    {
     "data": {
      "text/plain": [
       "<AxesSubplot:>"
      ]
     },
     "execution_count": 26,
     "metadata": {},
     "output_type": "execute_result"
    },
    {
     "data": {
      "image/png": "[encoded data removed]",
      "text/plain": [
       "<Figure size 432x288 with 1 Axes>"
      ]
     },
     "metadata": {
      "needs_background": "light"
     },
     "output_type": "display_data"
    }
   ],
   "source": [
    "Churn_test.boxplot(column=['MonthlyCharges', 'TotalCharges', 'tenure'])"
   ]
  },
  {
   "cell_type": "markdown",
   "metadata": {
    "colab_type": "text",
    "id": "Q__gCVuEfdoH"
   },
   "source": [
    "### Count of Yes and No for Churn"
   ]
  },
  {
   "cell_type": "code",
   "execution_count": 27,
   "metadata": {
    "colab": {},
    "colab_type": "code",
    "id": "pDuZRTzlfdoI"
   },
   "outputs": [
    {
     "data": {
      "text/plain": [
       "No     4113\n",
       "Yes    1521\n",
       "Name: Churn, dtype: int64"
      ]
     },
     "execution_count": 27,
     "metadata": {},
     "output_type": "execute_result"
    }
   ],
   "source": [
    "Churn_train['Churn'].value_counts() #we are using '.value_counts()' function which outputs the number of occurence of categories within a feature \n",
    "# to check balance in TV #It was 40% data in yes category, so balanced data"
   ]
  },
  {
   "cell_type": "markdown",
   "metadata": {
    "colab_type": "text",
    "id": "r_LeeJrIfdoN"
   },
   "source": [
    "### Q 3. Write a user defined function to calculate the Inter quartile range for quantile values outside 25 to 75 range. And do the outlier capping for lower level with min value and for upper level with 'q3=1.5*iqr' value.\n",
    "\n",
    "- Use the `.quantile()` function to extract the first and third quantile and save these values in different vatiables.\n",
    "- Use the created variables in the formula provided above, this creates an upper bound.\n",
    "- For lower bound use the `min()` function on the column name."
   ]
  },
  {
   "cell_type": "code",
   "execution_count": 28,
   "metadata": {
    "colab": {},
    "colab_type": "code",
    "id": "Kq6dUBfhfdoO"
   },
   "outputs": [],
   "source": [
    "def remove_outlier(df_in, col_name):\n",
    "    Q1=df_in[col_name].quantile(0.25)   # Calculate quantile 1 using quantile(0.25)\n",
    "    Q3=df_in[col_name].quantile(0.75)    # Calculate quantile 3\n",
    "    IQR = Q3-Q1            # Calculate IQR as difference of Quantile 3 and quantile 1\n",
    "    lower_bound = df_in[col_name].min()          # Find the lower bound using the min() function\n",
    "    upper_bound = Q3 + 1.5*IQR            # Find the upper bound as quantile3 + 1.5*IQR\n",
    "    #print('Column',col_name,'IQR lower bound and upper bound are', lower_bound, 'and', upper_bound, 'respectively')\n",
    "    print(lower_bound, upper_bound)        # Print the lower and upper bound of the column\n",
    "    df_out = df_in.loc[(df_in[col_name] > lower_bound) & (df_in[col_name] < upper_bound)]    # Remove the values lying outside min and upper bound range\n",
    "    return df_out\n"
   ]
  },
  {
   "cell_type": "markdown",
   "metadata": {
    "colab_type": "text",
    "id": "_NfMzW3nfdoT"
   },
   "source": [
    "### Q 3.1 Using the above created function , remove the outlier from 'MonthlyCharges' variables:"
   ]
  },
  {
   "cell_type": "code",
   "execution_count": 29,
   "metadata": {
    "colab": {},
    "colab_type": "code",
    "id": "A8a6xr-0fdoV"
   },
   "outputs": [],
   "source": [
    "#def log(Churn_train):\n",
    "    #return remove_outlier(Churn_train, 'MonthlyCharges') # your code to remove the outlier from age\n",
    "\n",
    "#Churn_train=log(Churn_train)"
   ]
  },
  {
   "cell_type": "markdown",
   "metadata": {
    "colab_type": "text",
    "id": "P7Qne0zkfdob"
   },
   "source": [
    "### Q 3.2 Using the above created function , remove the outlier from 'TotalCharges' variables:"
   ]
  },
  {
   "cell_type": "code",
   "execution_count": 30,
   "metadata": {
    "colab": {},
    "colab_type": "code",
    "id": "sXbqjNtQfdoc"
   },
   "outputs": [
    {
     "name": "stdout",
     "output_type": "stream",
     "text": [
      "18.8 8879.5875\n"
     ]
    }
   ],
   "source": [
    "def log(Churn_train):\n",
    "    return remove_outlier(Churn_train, 'TotalCharges')# your code to remove the outlier from campaign\n",
    "Churn_train = log(Churn_train) "
   ]
  },
  {
   "cell_type": "markdown",
   "metadata": {
    "colab_type": "text",
    "id": "-442xGRmfdoh"
   },
   "source": [
    "### Q 3.3 Using the above created function , remove the outlier from 'Tenure' variables:"
   ]
  },
  {
   "cell_type": "code",
   "execution_count": null,
   "metadata": {
    "colab": {},
    "colab_type": "code",
    "id": "XA0XZkq-fdoi"
   },
   "outputs": [],
   "source": [
    "#def log(bank):\n",
    "    #return remove_outlier(Churn_train, 'duration')# your code to remove the outlier from duration\n",
    "#bank = log(bank) "
   ]
  },
  {
   "cell_type": "markdown",
   "metadata": {
    "colab_type": "text",
    "id": "O0zMp07Cfdoo"
   },
   "source": [
    "### Dividing dataset into two, on the basis of categorical and numerical."
   ]
  },
  {
   "cell_type": "code",
   "execution_count": 32,
   "metadata": {
    "colab": {},
    "colab_type": "code",
    "id": "Szmb0rfmfdop"
   },
   "outputs": [],
   "source": [
    "Churn_train_cont=Churn_train[['MonthlyCharges', 'TotalCharges', 'tenure']]"
   ]
  },
  {
   "cell_type": "code",
   "execution_count": 34,
   "metadata": {
    "colab": {},
    "colab_type": "code",
    "id": "vjTXW3d2fdou"
   },
   "outputs": [
    {
     "name": "stdout",
     "output_type": "stream",
     "text": [
      "      customerID  gender  SeniorCitizen Partner Dependents PhoneService  \\\n",
      "0     5442-PPTJY    Male              0     Yes        Yes          Yes   \n",
      "1     6261-RCVNS  Female              0      No         No          Yes   \n",
      "2     2176-OSJUV    Male              0     Yes         No          Yes   \n",
      "3     6161-ERDGD    Male              0     Yes        Yes          Yes   \n",
      "4     2364-UFROM    Male              0      No         No          Yes   \n",
      "...          ...     ...            ...     ...        ...          ...   \n",
      "5629  0781-LKXBR    Male              1      No         No          Yes   \n",
      "5630  3507-GASNP    Male              0      No        Yes          Yes   \n",
      "5631  8868-WOZGU    Male              0      No         No          Yes   \n",
      "5632  1251-KRREG    Male              0      No         No          Yes   \n",
      "5633  5840-NVDCG  Female              0     Yes        Yes          Yes   \n",
      "\n",
      "     MultipleLines InternetService       OnlineSecurity         OnlineBackup  \\\n",
      "0               No              No  No internet service  No internet service   \n",
      "1               No             DSL                  Yes                  Yes   \n",
      "2              Yes             DSL                  Yes                  Yes   \n",
      "3              Yes             DSL                  Yes                   No   \n",
      "4               No             DSL                  Yes                  Yes   \n",
      "...            ...             ...                  ...                  ...   \n",
      "5629           Yes     Fiber optic                   No                   No   \n",
      "5630            No              No  No internet service  No internet service   \n",
      "5631           Yes     Fiber optic                   No                  Yes   \n",
      "5632           Yes             DSL                   No                  Yes   \n",
      "5633            No             DSL                  Yes                  Yes   \n",
      "\n",
      "         DeviceProtection          TechSupport          StreamingTV  \\\n",
      "0     No internet service  No internet service  No internet service   \n",
      "1                     Yes                  Yes                   No   \n",
      "2                      No                  Yes                   No   \n",
      "3                     Yes                  Yes                  Yes   \n",
      "4                      No                  Yes                  Yes   \n",
      "...                   ...                  ...                  ...   \n",
      "5629                  Yes                   No                  Yes   \n",
      "5630  No internet service  No internet service  No internet service   \n",
      "5631                  Yes                   No                  Yes   \n",
      "5632                   No                   No                   No   \n",
      "5633                   No                  Yes                   No   \n",
      "\n",
      "          StreamingMovies        Contract PaperlessBilling  \\\n",
      "0     No internet service        Two year               No   \n",
      "1                     Yes        One year               No   \n",
      "2                      No        Two year               No   \n",
      "3                     Yes        One year               No   \n",
      "4                      No        One year               No   \n",
      "...                   ...             ...              ...   \n",
      "5629                  Yes  Month-to-month              Yes   \n",
      "5630  No internet service        Two year               No   \n",
      "5631                  Yes  Month-to-month              Yes   \n",
      "5632                   No  Month-to-month              Yes   \n",
      "5633                  Yes        Two year               No   \n",
      "\n",
      "                  PaymentMethod Churn  \n",
      "0                  Mailed check    No  \n",
      "1       Credit card (automatic)   Yes  \n",
      "2     Bank transfer (automatic)    No  \n",
      "3              Electronic check    No  \n",
      "4              Electronic check    No  \n",
      "...                         ...   ...  \n",
      "5629           Electronic check   Yes  \n",
      "5630               Mailed check    No  \n",
      "5631           Electronic check   Yes  \n",
      "5632               Mailed check   Yes  \n",
      "5633  Bank transfer (automatic)    No  \n",
      "\n",
      "[5633 rows x 18 columns]\n"
     ]
    }
   ],
   "source": [
    "Churn_train_cat = Churn_train.drop(['MonthlyCharges', 'TotalCharges', 'tenure'], axis=1)\n",
    "print(Churn_train_cat)"
   ]
  },
  {
   "cell_type": "markdown",
   "metadata": {
    "colab_type": "text",
    "id": "reIkZu2Lfdoz"
   },
   "source": [
    "### Q 4. Label encode the below mentioned categorical variable to numerical values.\n",
    "``` ['job', 'marital','default','education', 'loan', 'housing', 'contact', 'month', 'day_of_week', 'poutcome', 'y'] ```\n",
    "\n",
    "- Use the function from sklearn.\n",
    "\n",
    " `from sklearn.preprocessing import LabelEncoder`"
   ]
  },
  {
   "cell_type": "code",
   "execution_count": null,
   "metadata": {
    "colab": {},
    "colab_type": "code",
    "id": "-cxTXRusfdo0"
   },
   "outputs": [],
   "source": [
    "from sklearn.preprocessing import LabelEncoder\n",
    "def log(bank_cat):\n",
    "    from sklearn.preprocessing import LabelEncoder\n",
    "    return bank_cat.apply(LabelEncoder().fit_transform)# your code to return the value applying fit_transorm\n",
    "    \n",
    "bank_cat = log(bank_cat)"
   ]
  },
  {
   "cell_type": "markdown",
   "metadata": {
    "colab_type": "text",
    "id": "Zu_tgNC1fdo6"
   },
   "source": [
    "### Combining the numerical and categorical dataset."
   ]
  },
  {
   "cell_type": "code",
   "execution_count": null,
   "metadata": {
    "colab": {},
    "colab_type": "code",
    "id": "Elp4OmiJfdo7"
   },
   "outputs": [],
   "source": [
    "bank_final= pd.concat([bank_cont, bank_cat], axis = 1)\n",
    "bank_final.head()"
   ]
  },
  {
   "cell_type": "markdown",
   "metadata": {
    "colab_type": "text",
    "id": "hzV4nyQZfdpA"
   },
   "source": [
    "### Q 6. Extract independent column to prepare X \n",
    "\n",
    "- Use pandas `concat()` function."
   ]
  },
  {
   "cell_type": "code",
   "execution_count": null,
   "metadata": {
    "colab": {},
    "colab_type": "code",
    "id": "1bB0S-igfdpB"
   },
   "outputs": [],
   "source": [
    "X = pd.DataFrame()\n",
    "def log():\n",
    "    X=bank_final.loc[:,bank.columns != 'y']# write your code to create a dataframe of dependent variables excluding 'y' variable\n",
    "    return X\n",
    "X = log()"
   ]
  },
  {
   "cell_type": "markdown",
   "metadata": {
    "colab_type": "text",
    "id": "tEjZDHlCfdpH"
   },
   "source": [
    "### Q 7. Extract dependent variable into a dataframe 'y' for model predcition"
   ]
  },
  {
   "cell_type": "code",
   "execution_count": null,
   "metadata": {
    "colab": {},
    "colab_type": "code",
    "id": "Pk6AjYhIfdpI"
   },
   "outputs": [],
   "source": [
    "y = pd.DataFrame()\n",
    "def log():\n",
    "    y=bank_final.loc[:,bank.columns == 'y'] # write your code to create a dataframe which consists only of dependepent variable\n",
    "    return y\n",
    "y = log()"
   ]
  },
  {
   "cell_type": "markdown",
   "metadata": {
    "colab_type": "text",
    "id": "Omf7BxKpfdpM"
   },
   "source": [
    "### Q 8. Splitting X and y intro train and test dataset"
   ]
  },
  {
   "cell_type": "code",
   "execution_count": null,
   "metadata": {
    "colab": {},
    "colab_type": "code",
    "id": "rTWJQdwNfdpN"
   },
   "outputs": [],
   "source": [
    "from sklearn.model_selection import train_test_split \n",
    "def log():\n",
    "    return train_test_split(X, y, test_size=0.25, random_state=1)  # train test split using train_test_split of 75:25 and random state=1\n",
    "X_train, X_test, y_train, y_test = log()"
   ]
  },
  {
   "cell_type": "markdown",
   "metadata": {
    "colab_type": "text",
    "id": "lypy00hbfdpT"
   },
   "source": [
    "### Check the shape of X an y of train dataset."
   ]
  },
  {
   "cell_type": "code",
   "execution_count": null,
   "metadata": {
    "colab": {},
    "colab_type": "code",
    "id": "jUN1d5b7fdpT"
   },
   "outputs": [],
   "source": [
    "def log():\n",
    "    print(X_train.shape)\n",
    "    print(y_train.shape)\n",
    "log()"
   ]
  },
  {
   "cell_type": "markdown",
   "metadata": {
    "colab_type": "text",
    "id": "OYVMJAO5fdpZ"
   },
   "source": [
    "### Check the shape of X and y of test dataset."
   ]
  },
  {
   "cell_type": "code",
   "execution_count": null,
   "metadata": {
    "colab": {},
    "colab_type": "code",
    "id": "l4sZTljHfdpb"
   },
   "outputs": [],
   "source": [
    "def log():\n",
    "    print(X_test.shape)\n",
    "    print(y_test.shape)\n",
    "log()"
   ]
  },
  {
   "cell_type": "markdown",
   "metadata": {
    "colab_type": "text",
    "id": "2n-XJCEjfdpl"
   },
   "source": [
    "### Q 9. Instantitate Logistic Regression model using scikit-learn\n",
    "\n",
    "- Use 'LogisticRegression' from the sklearn class.\n",
    "\n",
    "  `from sklearn.linear_model import LogisticRegression`"
   ]
  },
  {
   "cell_type": "code",
   "execution_count": null,
   "metadata": {
    "colab": {},
    "colab_type": "code",
    "id": "mnddRoqRfdpm"
   },
   "outputs": [],
   "source": [
    "from sklearn.linear_model import LogisticRegression\n",
    "def log():\n",
    "    logreg=LogisticRegression() # initiate the logistic regression model to new variable logreg\n",
    "    return logreg\n",
    "logreg = log()"
   ]
  },
  {
   "cell_type": "markdown",
   "metadata": {
    "colab_type": "text",
    "id": "h1b-dtZifdpt"
   },
   "source": [
    "### Q 10. Fit the logistic model on X_train and y_train\n",
    "\n",
    "- Use the `.fit()` function"
   ]
  },
  {
   "cell_type": "code",
   "execution_count": null,
   "metadata": {
    "colab": {},
    "colab_type": "code",
    "id": "fnqpoNt6fdpu"
   },
   "outputs": [],
   "source": [
    "def log():\n",
    "    logreg.fit(X_train,y_train)\n",
    "log() \n",
    "\n",
    "  "
   ]
  },
  {
   "cell_type": "markdown",
   "metadata": {
    "colab_type": "text",
    "id": "TQDuhOTcfdp1"
   },
   "source": [
    "### Q 11. Using the model for prediction\n",
    "\n",
    "- Use the `.predict()` function."
   ]
  },
  {
   "cell_type": "code",
   "execution_count": null,
   "metadata": {
    "colab": {},
    "colab_type": "code",
    "id": "vZR3fn9Vfdp2"
   },
   "outputs": [],
   "source": [
    "y_pred_train = pd.DataFrame()\n",
    "def log():\n",
    "    y_pred_train = logreg.predict(X_train) # create the model prediction on X_train data using the above created dataframe\n",
    "    return y_pred_train\n",
    "y_pred_train = log()"
   ]
  },
  {
   "cell_type": "code",
   "execution_count": null,
   "metadata": {
    "colab": {},
    "colab_type": "code",
    "id": "yGEXF6Kxfdp9"
   },
   "outputs": [],
   "source": [
    "y_pred_test = pd.DataFrame()\n",
    "def log():\n",
    "    y_pred_test = logreg.predict(X_test)# create the model prediction on X_test data using the above created dataframe\n",
    "    return y_pred_test\n",
    "y_pred_test = log()"
   ]
  },
  {
   "cell_type": "markdown",
   "metadata": {
    "colab_type": "text",
    "id": "BkfOV5jZfdqC"
   },
   "source": [
    "### Q 12. Model evaluation using accuracy classification score"
   ]
  },
  {
   "cell_type": "code",
   "execution_count": null,
   "metadata": {
    "colab": {},
    "colab_type": "code",
    "id": "EAKR3-oEfdqD"
   },
   "outputs": [],
   "source": [
    "from sklearn.metrics import accuracy_score\n",
    "def log():\n",
    "    print('Accuracy score for test data is:', accuracy_score(y_test,y_pred_test))#Calculate and print the accuracy score\n",
    "log()"
   ]
  },
  {
   "cell_type": "markdown",
   "metadata": {
    "colab_type": "text",
    "id": "YlSgTr89fdqK"
   },
   "source": [
    "### Q 13. Model evaluation using Confusion matrix"
   ]
  },
  {
   "cell_type": "code",
   "execution_count": null,
   "metadata": {
    "colab": {},
    "colab_type": "code",
    "id": "UfgQNuTGfdqM"
   },
   "outputs": [],
   "source": [
    "from sklearn.metrics import confusion_matrix\n",
    "cf_matrix=confusion_matrix(y_test, y_pred_test) #print as an array for heat plot instead of DataFrame\n",
    "print(cf_matrix)\n",
    "\n",
    "#cf_matrix = pd.DataFrame(confusion_matrix(y_test, y_pred_test))\n",
    "#def log():\n",
    "    #cf_matrix.index = ['Actual No_Deposit','Actual Deposit']\n",
    "    #cf_matrix.columns = ['Predicted No_Deposit','Predicted Deposit'# provide confusion matrix index name as['Actual No_Deposit','Actual Deposit']\n",
    "    # provide confusion matrix index name as['Predicted No_Deposit','Predicted Deposit']\n",
    "    #print(confusion_matrix)\n",
    "#log()"
   ]
  },
  {
   "cell_type": "code",
   "execution_count": null,
   "metadata": {},
   "outputs": [],
   "source": [
    "import seaborn as sns\n",
    "sns.heatmap(cf_matrix, annot=True,cmap='BuGn',linewidths=1, linecolor='black')\n"
   ]
  },
  {
   "cell_type": "markdown",
   "metadata": {
    "colab_type": "text",
    "id": "mYEA6_UYfdqT"
   },
   "source": [
    "### Q 14. Accuracy prediction setting the threshold = 0.75\n",
    "\n",
    "- Use numpy's function `np.where()`"
   ]
  },
  {
   "cell_type": "code",
   "execution_count": null,
   "metadata": {
    "colab": {},
    "colab_type": "code",
    "id": "zlKkq27-fdqU"
   },
   "outputs": [],
   "source": [
    "import numpy as np\n",
    "def log():\n",
    "    preds1 = np.where(logreg.predict_proba(X_test)[:,1]> 0.75,1,0)\n",
    "    print('Accuracy score for test data is:', accuracy_score(y_test,preds1)) # Calculate preds1 keeping the probabilty value as 0.75\n",
    "    # calculate and print the accuracy using the above mentioned threshold probability\n",
    "log()"
   ]
  },
  {
   "cell_type": "markdown",
   "metadata": {
    "colab_type": "text",
    "id": "o8T4gOu6fdqZ"
   },
   "source": [
    "### Q 15. Accuracy prediction setting the threshold = 0.25"
   ]
  },
  {
   "cell_type": "code",
   "execution_count": null,
   "metadata": {
    "colab": {},
    "colab_type": "code",
    "id": "xf9SxYK5fdqb"
   },
   "outputs": [],
   "source": [
    "def log():\n",
    "    preds2 = np.where(logreg.predict_proba(X_test)[:,1]> 0.25,1,0)\n",
    "    print('Accuracy score for test data is:', accuracy_score(y_test,preds2))# Calculate preds2 keeping the probabilty value as 0.25\n",
    "    # calculate and print the accuracy using the above mentioned threshold probability\n",
    "log()"
   ]
  },
  {
   "cell_type": "code",
   "execution_count": null,
   "metadata": {},
   "outputs": [],
   "source": [
    "import matplotlib.pyplot as plt\n",
    "import sklearn.metrics as metrics\n",
    "# calculate the fpr and tpr for all thresholds of the classification\n",
    "probs = logreg.predict_proba(X_test)\n",
    "preds = probs[:,1]\n",
    "fpr, tpr, threshold = metrics.roc_curve(y_test, preds)\n",
    "roc_auc = metrics.auc(fpr, tpr)\n",
    "\n",
    "# method I: plt\n",
    "import matplotlib.pyplot as plt\n",
    "plt.title('Receiver Operating Characteristic')\n",
    "plt.plot(fpr, tpr, 'b', label = 'AUC = %0.2f' % roc_auc)\n",
    "plt.legend(loc = 'lower right')\n",
    "plt.plot([0, 1], [0, 1],'r--')\n",
    "plt.xlim([0, 1])\n",
    "plt.ylim([0, 1])\n",
    "plt.ylabel('True Positive Rate')\n",
    "plt.xlabel('False Positive Rate')\n",
    "plt.show()\n"
   ]
  },
  {
   "cell_type": "code",
   "execution_count": null,
   "metadata": {},
   "outputs": [],
   "source": []
  }
 ],
 "metadata": {
  "colab": {
   "collapsed_sections": [],
   "name": "LogisticRegressionQuestion.ipynb",
   "provenance": []
  },
  "kernelspec": {
   "display_name": "Python 3",
   "language": "python",
   "name": "python3"
  },
  "language_info": {
   "codemirror_mode": {
    "name": "ipython",
    "version": 3
   },
   "file_extension": ".py",
   "mimetype": "text/x-python",
   "name": "python",
   "nbconvert_exporter": "python",
   "pygments_lexer": "ipython3",
   "version": "3.8.8"
  }
 },
 "nbformat": 4,
 "nbformat_minor": 1
}
